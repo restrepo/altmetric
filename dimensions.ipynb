{
  "nbformat": 4,
  "nbformat_minor": 0,
  "metadata": {
    "colab": {
      "name": "dimensions",
      "provenance": [],
      "include_colab_link": true
    },
    "kernelspec": {
      "name": "python3",
      "display_name": "Python 3"
    }
  },
  "cells": [
    {
      "cell_type": "markdown",
      "metadata": {
        "id": "view-in-github",
        "colab_type": "text"
      },
      "source": [
        "<a href=\"https://colab.research.google.com/github/restrepo/dimensions/blob/master/dimensions.ipynb\" target=\"_parent\"><img src=\"https://colab.research.google.com/assets/colab-badge.svg\" alt=\"Open In Colab\"/></a>"
      ]
    },
    {
      "cell_type": "code",
      "metadata": {
        "id": "xa9Fz9Cqg_Qq",
        "colab_type": "code",
        "outputId": "c07770ed-571b-4b49-92db-4a511fecf877",
        "colab": {
          "base_uri": "https://localhost:8080/",
          "height": 35
        }
      },
      "source": [
        "doi='10.1088/1475-7516/2016/03/048'\n",
        "url='https://app.dimensions.ai/discover/publication?order=altmetric&search_text={}&search_field=doi'.format(doi)\n",
        "url"
      ],
      "execution_count": 0,
      "outputs": [
        {
          "output_type": "execute_result",
          "data": {
            "text/plain": [
              "'https://app.dimensions.ai/discover/publication?order=altmetric&search_text=10.1088/1475-7516/2016/03/048&search_field=doi'"
            ]
          },
          "metadata": {
            "tags": []
          },
          "execution_count": 1
        }
      ]
    },
    {
      "cell_type": "code",
      "metadata": {
        "id": "uNO4l2GXiN-N",
        "colab_type": "code",
        "colab": {}
      },
      "source": [
        "import requests"
      ],
      "execution_count": 0,
      "outputs": []
    },
    {
      "cell_type": "code",
      "metadata": {
        "id": "7qQK-chDmhtQ",
        "colab_type": "code",
        "colab": {}
      },
      "source": [
        "r=requests.get(url)"
      ],
      "execution_count": 0,
      "outputs": []
    },
    {
      "cell_type": "code",
      "metadata": {
        "id": "XgW-r_zYmmLW",
        "colab_type": "code",
        "colab": {}
      },
      "source": [
        ""
      ],
      "execution_count": 0,
      "outputs": []
    },
    {
      "cell_type": "code",
      "metadata": {
        "id": "LKbZSqoymYSu",
        "colab_type": "code",
        "colab": {}
      },
      "source": [
        "from IPython import display"
      ],
      "execution_count": 0,
      "outputs": []
    },
    {
      "cell_type": "code",
      "metadata": {
        "id": "jFVd6bPqmgIa",
        "colab_type": "code",
        "outputId": "a288d93f-ecee-497e-b8a4-bf06cdbd2362",
        "colab": {
          "base_uri": "https://localhost:8080/",
          "height": 35
        }
      },
      "source": [
        "r.text.find('please enable JavaScript in the options of your browser or talk to your local administrator')"
      ],
      "execution_count": 0,
      "outputs": [
        {
          "output_type": "execute_result",
          "data": {
            "text/plain": [
              "16198"
            ]
          },
          "metadata": {
            "tags": []
          },
          "execution_count": 9
        }
      ]
    },
    {
      "cell_type": "markdown",
      "metadata": {
        "id": "JMI76_Q0C4a2",
        "colab_type": "text"
      },
      "source": [
        "When JavaScript enabled you could have"
      ]
    },
    {
      "cell_type": "code",
      "metadata": {
        "id": "xezBAnpImr1h",
        "colab_type": "code",
        "outputId": "af731dad-daaf-4349-91bf-b8ed2b2cb9cd",
        "colab": {
          "base_uri": "https://localhost:8080/",
          "height": 38
        }
      },
      "source": [
        "%%HTML\n",
        "<a target=\"_blank\" href=\"https://www.altmetric.com/details.php?domain=app.dimensions.ai&amp;citation_id=5614638&amp;template=dimensions\" rel=\"popover\" data-content=\"<div>    <div style='padding-left: 10px; line-height:18px; border-left: 16px solid #ffd140;'>\n",
        "      <a class='link-to-altmetric-details-tab' target='_blank' href='https://www.altmetric.com/details.php?domain=app.dimensions.ai&amp;citation_id=5614638&amp;template=dimensions&amp;tab=blogs'>\n",
        "          Blogged by <b>1</b>\n",
        "      </a>\n",
        "    </div>\n",
        "    <div style='padding-left: 10px; line-height:18px; border-left: 16px solid #74CFED;'>\n",
        "      <a class='link-to-altmetric-details-tab' target='_blank' href='https://www.altmetric.com/details.php?domain=app.dimensions.ai&amp;citation_id=5614638&amp;template=dimensions&amp;tab=twitter'>\n",
        "          Tweeted by <b>4</b>\n",
        "      </a>\n",
        "    </div>\n",
        "    <div style='padding-left: 10px; line-height:18px; border-left: 16px solid #2445bd;'>\n",
        "      <a class='link-to-altmetric-details-tab' target='_blank' href='https://www.altmetric.com/details.php?domain=app.dimensions.ai&amp;citation_id=5614638&amp;template=dimensions&amp;tab=facebook'>\n",
        "          On <b>1</b> Facebook pages\n",
        "      </a>\n",
        "    </div>\n",
        "\n",
        "    <div class='altmetric-embed readers' style='margin-top: 10px;'>\n",
        "          <div class='altmetric-embed tip_mendeley'\n",
        "               style='padding-left: 10px; line-height:18px; border-left: 16px solid #A60000;'>\n",
        "              <b>16</b> readers on Mendeley\n",
        "          </div>\n",
        "    </div>\n",
        "    <div style='margin-top: 10px; text-align: center;'>\n",
        "        <a class='altmetric_details' target='_blank' href='https://www.altmetric.com/details.php?domain=app.dimensions.ai&amp;citation_id=5614638&amp;template=dimensions'>\n",
        "            See more details\n",
        "        </a>\n",
        "    </div>\n",
        "</div>\" style=\"display:inline-block;\" data-badge-popover=\"right\">\n",
        "        <img alt=\"Article has an altmetric score of 9\" src=\"https://d1uo4w7k31k5mn.cloudfront.net/v2/9.png\" width=\"88px\" height=\"18px\" style=\"border:0; margin:0; max-width: none;\">\n",
        "</a>"
      ],
      "execution_count": 0,
      "outputs": [
        {
          "output_type": "display_data",
          "data": {
            "text/html": [
              "<a target=\"_blank\" href=\"https://www.altmetric.com/details.php?domain=app.dimensions.ai&amp;citation_id=5614638&amp;template=dimensions\" rel=\"popover\" data-content=\"<div>    <div style='padding-left: 10px; line-height:18px; border-left: 16px solid #ffd140;'>\n",
              "      <a class='link-to-altmetric-details-tab' target='_blank' href='https://www.altmetric.com/details.php?domain=app.dimensions.ai&amp;citation_id=5614638&amp;template=dimensions&amp;tab=blogs'>\n",
              "          Blogged by <b>1</b>\n",
              "      </a>\n",
              "    </div>\n",
              "    <div style='padding-left: 10px; line-height:18px; border-left: 16px solid #74CFED;'>\n",
              "      <a class='link-to-altmetric-details-tab' target='_blank' href='https://www.altmetric.com/details.php?domain=app.dimensions.ai&amp;citation_id=5614638&amp;template=dimensions&amp;tab=twitter'>\n",
              "          Tweeted by <b>4</b>\n",
              "      </a>\n",
              "    </div>\n",
              "    <div style='padding-left: 10px; line-height:18px; border-left: 16px solid #2445bd;'>\n",
              "      <a class='link-to-altmetric-details-tab' target='_blank' href='https://www.altmetric.com/details.php?domain=app.dimensions.ai&amp;citation_id=5614638&amp;template=dimensions&amp;tab=facebook'>\n",
              "          On <b>1</b> Facebook pages\n",
              "      </a>\n",
              "    </div>\n",
              "\n",
              "    <div class='altmetric-embed readers' style='margin-top: 10px;'>\n",
              "          <div class='altmetric-embed tip_mendeley'\n",
              "               style='padding-left: 10px; line-height:18px; border-left: 16px solid #A60000;'>\n",
              "              <b>16</b> readers on Mendeley\n",
              "          </div>\n",
              "    </div>\n",
              "    <div style='margin-top: 10px; text-align: center;'>\n",
              "        <a class='altmetric_details' target='_blank' href='https://www.altmetric.com/details.php?domain=app.dimensions.ai&amp;citation_id=5614638&amp;template=dimensions'>\n",
              "            See more details\n",
              "        </a>\n",
              "    </div>\n",
              "</div>\" style=\"display:inline-block;\" data-badge-popover=\"right\">\n",
              "        <img alt=\"Article has an altmetric score of 9\" src=\"https://d1uo4w7k31k5mn.cloudfront.net/v2/9.png\" width=\"88px\" height=\"18px\" style=\"border:0; margin:0; max-width: none;\">\n",
              "</a>"
            ],
            "text/plain": [
              "<IPython.core.display.HTML object>"
            ]
          },
          "metadata": {
            "tags": []
          }
        }
      ]
    },
    {
      "cell_type": "code",
      "metadata": {
        "id": "biF6huCSnYlo",
        "colab_type": "code",
        "colab": {}
      },
      "source": [
        "altmetric_url='https://www.altmetric.com/details.php?domain=app.dimensions.ai&amp;citation_id=5614638&amp;template=dimensions'"
      ],
      "execution_count": 0,
      "outputs": []
    },
    {
      "cell_type": "markdown",
      "metadata": {
        "id": "mObehk6WDBkt",
        "colab_type": "text"
      },
      "source": [
        "Try to enable JavaScript. Use Selenium or..."
      ]
    },
    {
      "cell_type": "code",
      "metadata": {
        "id": "Mhc6vrAMsQa9",
        "colab_type": "code",
        "colab": {}
      },
      "source": [
        "!pip3 install requests_html 2> /dev/null > /dev/null"
      ],
      "execution_count": 0,
      "outputs": []
    },
    {
      "cell_type": "code",
      "metadata": {
        "id": "vqSFnqqusP7w",
        "colab_type": "code",
        "colab": {}
      },
      "source": [
        "from requests_html import HTMLSession"
      ],
      "execution_count": 0,
      "outputs": []
    },
    {
      "cell_type": "code",
      "metadata": {
        "id": "nn9_t6PU4zZk",
        "colab_type": "code",
        "colab": {}
      },
      "source": [
        "session = HTMLSession()"
      ],
      "execution_count": 0,
      "outputs": []
    },
    {
      "cell_type": "code",
      "metadata": {
        "id": "q-EJF1QWvkmW",
        "colab_type": "code",
        "colab": {}
      },
      "source": [
        "r=session.get(url)"
      ],
      "execution_count": 0,
      "outputs": []
    },
    {
      "cell_type": "code",
      "metadata": {
        "id": "b8_4dV2D2qJH",
        "colab_type": "code",
        "colab": {}
      },
      "source": [
        "rr=r.html.render()"
      ],
      "execution_count": 0,
      "outputs": []
    },
    {
      "cell_type": "code",
      "metadata": {
        "id": "Bdit4VEN2uyG",
        "colab_type": "code",
        "colab": {}
      },
      "source": [
        ""
      ],
      "execution_count": 0,
      "outputs": []
    }
  ]
}