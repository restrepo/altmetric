{
 "cells": [
  {
   "cell_type": "markdown",
   "metadata": {},
   "source": [
    "## Dimensions doi search\n",
    "Python: not API required\n",
    "\n",
    "* [Direct altmetrics doi search](./pyAlmetrics.ipynb)\n",
    "* [Check R implementation](./rAltmetric.ipynb)"
   ]
  },
  {
   "cell_type": "code",
   "execution_count": 6,
   "metadata": {
    "colab": {
     "base_uri": "https://localhost:8080/",
     "height": 35
    },
    "colab_type": "code",
    "id": "xa9Fz9Cqg_Qq",
    "outputId": "c07770ed-571b-4b49-92db-4a511fecf877"
   },
   "outputs": [
    {
     "data": {
      "text/plain": [
       "'https://app.dimensions.ai/discover/publication?order=altmetric&search_text=10.1088/1475-7516/2016/03/048&search_field=doi'"
      ]
     },
     "execution_count": 6,
     "metadata": {},
     "output_type": "execute_result"
    }
   ],
   "source": [
    "doi='10.1088/1475-7516/2016/03/048'\n",
    "url='https://app.dimensions.ai/discover/publication?order=altmetric&search_text={}&search_field=doi'.format(doi)\n",
    "url"
   ]
  },
  {
   "cell_type": "markdown",
   "metadata": {
    "colab_type": "text",
    "id": "mObehk6WDBkt"
   },
   "source": [
    "Selenium required to enable JavaScript"
   ]
  },
  {
   "cell_type": "markdown",
   "metadata": {},
   "source": [
    "WARNING: Does not work in Jypyter-hub"
   ]
  },
  {
   "cell_type": "code",
   "execution_count": 2,
   "metadata": {
    "colab": {},
    "colab_type": "code",
    "id": "Bdit4VEN2uyG"
   },
   "outputs": [],
   "source": [
    "import re\n",
    "import time\n",
    "SELENIUM=True\n",
    "if SELENIUM:\n",
    "#pip3 install webdriver_manager\n",
    "    from selenium import webdriver\n",
    "    from pathlib import Path\n",
    "    home = str(Path.home())\n",
    "    try:\n",
    "        browser = webdriver.Firefox(executable_path=\n",
    "          '{}/.wdm/geckodriver/v0.26.0/linux64/geckodriver'.format(home))\n",
    "    except:\n",
    "        browser = webdriver.Firefox(\n",
    "            executable_path= GeckoDriverManager().install())\n",
    "    \n",
    "    browser.get(url)\n",
    "else:\n",
    "    browser=None"
   ]
  },
  {
   "cell_type": "code",
   "execution_count": 3,
   "metadata": {},
   "outputs": [
    {
     "data": {
      "text/plain": [
       "20"
      ]
     },
     "execution_count": 3,
     "metadata": {},
     "output_type": "execute_result"
    }
   ],
   "source": [
    "try:\n",
    "    cites_count=browser.find_element_by_class_name(\"__db_score\").text\n",
    "    cites_count=int(cites_count)\n",
    "except:\n",
    "    cites_count=None\n",
    "cites_count"
   ]
  },
  {
   "cell_type": "code",
   "execution_count": 4,
   "metadata": {},
   "outputs": [],
   "source": [
    "try:\n",
    "    y=browser.find_element_by_class_name(\"link-to-altmetric-details-tab\")\n",
    "    alturl=re.sub('&tab=\\w+$','',\n",
    "            y.get_property(\"href\")\n",
    "                 )\n",
    "except:\n",
    "    alturl=None"
   ]
  },
  {
   "cell_type": "code",
   "execution_count": 5,
   "metadata": {},
   "outputs": [
    {
     "data": {
      "text/plain": [
       "9"
      ]
     },
     "execution_count": 5,
     "metadata": {},
     "output_type": "execute_result"
    }
   ],
   "source": [
    "time.sleep(1)\n",
    "try:\n",
    "    browser.get(alturl)\n",
    "    x=browser.find_element_by_class_name(\"altmetric-badge\")\n",
    "    xx=x.get_property('style')['background-image']\n",
    "    score=int( \n",
    "               [l  for l in xx.split('&') \n",
    "                  if l.find('score')>-1\n",
    "               ][0].split('=')[-1]\n",
    "             )\n",
    "except:\n",
    "    score=None\n",
    "score"
   ]
  },
  {
   "cell_type": "code",
   "execution_count": 6,
   "metadata": {},
   "outputs": [
    {
     "name": "stdout",
     "output_type": "stream",
     "text": [
      "Mentioned by\n",
      "blogs\n",
      "1 blog\n",
      "twitter\n",
      "4 tweeters\n",
      "facebook\n",
      "1 Facebook page\n",
      "Citations\n",
      "dimensions_citation\n",
      "20 Dimensions\n",
      "Readers on\n",
      "mendeley\n",
      "16 Mendeley\n"
     ]
    }
   ],
   "source": [
    "try:\n",
    "    mention_counts=browser.find_element_by_class_name(\"mention-counts-wrapper\").text\n",
    "except:\n",
    "    mention_counts=None\n",
    "try:\n",
    "    citation_counts=browser.find_element_by_class_name(\"scholarly-citation-counts-wrapper\").text\n",
    "except:\n",
    "    citation_counts=None\n",
    "\n",
    "try:\n",
    "    reader_counts=browser.find_element_by_class_name(\"reader-counts-wrapper\").text\n",
    "except:\n",
    "    reader_counts=None\n",
    "    \n",
    "print(mention_counts)\n",
    "print(citation_counts)\n",
    "print(reader_counts)"
   ]
  }
 ],
 "metadata": {
  "colab": {
   "include_colab_link": true,
   "name": "dimensions",
   "provenance": []
  },
  "kernelspec": {
   "display_name": "Python 3",
   "language": "python",
   "name": "python3"
  },
  "language_info": {
   "codemirror_mode": {
    "name": "ipython",
    "version": 3
   },
   "file_extension": ".py",
   "mimetype": "text/x-python",
   "name": "python",
   "nbconvert_exporter": "python",
   "pygments_lexer": "ipython3",
   "version": "3.5.3"
  },
  "latex_envs": {
   "LaTeX_envs_menu_present": true,
   "autoclose": false,
   "autocomplete": true,
   "bibliofile": "biblio.bib",
   "cite_by": "apalike",
   "current_citInitial": 1,
   "eqLabelWithNumbers": true,
   "eqNumInitial": 1,
   "hotkeys": {
    "equation": "Ctrl-E",
    "itemize": "Ctrl-I"
   },
   "labels_anchors": false,
   "latex_user_defs": false,
   "report_style_numbering": false,
   "user_envs_cfg": false
  }
 },
 "nbformat": 4,
 "nbformat_minor": 1
}
