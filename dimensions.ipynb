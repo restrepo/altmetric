{
  "nbformat": 4,
  "nbformat_minor": 0,
  "metadata": {
    "colab": {
      "name": "dimensions",
      "provenance": [],
      "include_colab_link": true
    },
    "kernelspec": {
      "name": "python3",
      "display_name": "Python 3"
    }
  },
  "cells": [
    {
      "cell_type": "markdown",
      "metadata": {
        "id": "view-in-github",
        "colab_type": "text"
      },
      "source": [
        "<a href=\"https://colab.research.google.com/github/restrepo/dimensions/blob/master/dimensions.ipynb\" target=\"_parent\"><img src=\"https://colab.research.google.com/assets/colab-badge.svg\" alt=\"Open In Colab\"/></a>"
      ]
    },
    {
      "cell_type": "code",
      "metadata": {
        "id": "xa9Fz9Cqg_Qq",
        "colab_type": "code",
        "colab": {
          "base_uri": "https://localhost:8080/",
          "height": 35
        },
        "outputId": "c07770ed-571b-4b49-92db-4a511fecf877"
      },
      "source": [
        "doi='10.1088/1475-7516/2016/03/048'\n",
        "url='https://app.dimensions.ai/discover/publication?order=altmetric&search_text={}&search_field=doi'.format(doi)\n",
        "url"
      ],
      "execution_count": 1,
      "outputs": [
        {
          "output_type": "execute_result",
          "data": {
            "text/plain": [
              "'https://app.dimensions.ai/discover/publication?order=altmetric&search_text=10.1088/1475-7516/2016/03/048&search_field=doi'"
            ]
          },
          "metadata": {
            "tags": []
          },
          "execution_count": 1
        }
      ]
    },
    {
      "cell_type": "code",
      "metadata": {
        "id": "uNO4l2GXiN-N",
        "colab_type": "code",
        "colab": {}
      },
      "source": [
        "import requests"
      ],
      "execution_count": 0,
      "outputs": []
    },
    {
      "cell_type": "code",
      "metadata": {
        "id": "7qQK-chDmhtQ",
        "colab_type": "code",
        "colab": {}
      },
      "source": [
        "r=requests.get(url)"
      ],
      "execution_count": 0,
      "outputs": []
    },
    {
      "cell_type": "code",
      "metadata": {
        "id": "XgW-r_zYmmLW",
        "colab_type": "code",
        "colab": {}
      },
      "source": [
        ""
      ],
      "execution_count": 0,
      "outputs": []
    },
    {
      "cell_type": "code",
      "metadata": {
        "id": "LKbZSqoymYSu",
        "colab_type": "code",
        "colab": {}
      },
      "source": [
        "from IPython import display"
      ],
      "execution_count": 0,
      "outputs": []
    },
    {
      "cell_type": "code",
      "metadata": {
        "id": "jFVd6bPqmgIa",
        "colab_type": "code",
        "colab": {
          "base_uri": "https://localhost:8080/",
          "height": 35
        },
        "outputId": "a288d93f-ecee-497e-b8a4-bf06cdbd2362"
      },
      "source": [
        "r.text.find('please enable JavaScript in the options of your browser or talk to your local administrator')"
      ],
      "execution_count": 9,
      "outputs": [
        {
          "output_type": "execute_result",
          "data": {
            "text/plain": [
              "16198"
            ]
          },
          "metadata": {
            "tags": []
          },
          "execution_count": 9
        }
      ]
    },
    {
      "cell_type": "code",
      "metadata": {
        "id": "xezBAnpImr1h",
        "colab_type": "code",
        "colab": {
          "base_uri": "https://localhost:8080/",
          "height": 38
        },
        "outputId": "af731dad-daaf-4349-91bf-b8ed2b2cb9cd"
      },
      "source": [
        "%%HTML\n",
        "<a target=\"_blank\" href=\"https://www.altmetric.com/details.php?domain=app.dimensions.ai&amp;citation_id=5614638&amp;template=dimensions\" rel=\"popover\" data-content=\"<div>    <div style='padding-left: 10px; line-height:18px; border-left: 16px solid #ffd140;'>\n",
        "      <a class='link-to-altmetric-details-tab' target='_blank' href='https://www.altmetric.com/details.php?domain=app.dimensions.ai&amp;citation_id=5614638&amp;template=dimensions&amp;tab=blogs'>\n",
        "          Blogged by <b>1</b>\n",
        "      </a>\n",
        "    </div>\n",
        "    <div style='padding-left: 10px; line-height:18px; border-left: 16px solid #74CFED;'>\n",
        "      <a class='link-to-altmetric-details-tab' target='_blank' href='https://www.altmetric.com/details.php?domain=app.dimensions.ai&amp;citation_id=5614638&amp;template=dimensions&amp;tab=twitter'>\n",
        "          Tweeted by <b>4</b>\n",
        "      </a>\n",
        "    </div>\n",
        "    <div style='padding-left: 10px; line-height:18px; border-left: 16px solid #2445bd;'>\n",
        "      <a class='link-to-altmetric-details-tab' target='_blank' href='https://www.altmetric.com/details.php?domain=app.dimensions.ai&amp;citation_id=5614638&amp;template=dimensions&amp;tab=facebook'>\n",
        "          On <b>1</b> Facebook pages\n",
        "      </a>\n",
        "    </div>\n",
        "\n",
        "    <div class='altmetric-embed readers' style='margin-top: 10px;'>\n",
        "          <div class='altmetric-embed tip_mendeley'\n",
        "               style='padding-left: 10px; line-height:18px; border-left: 16px solid #A60000;'>\n",
        "              <b>16</b> readers on Mendeley\n",
        "          </div>\n",
        "    </div>\n",
        "    <div style='margin-top: 10px; text-align: center;'>\n",
        "        <a class='altmetric_details' target='_blank' href='https://www.altmetric.com/details.php?domain=app.dimensions.ai&amp;citation_id=5614638&amp;template=dimensions'>\n",
        "            See more details\n",
        "        </a>\n",
        "    </div>\n",
        "</div>\" style=\"display:inline-block;\" data-badge-popover=\"right\">\n",
        "        <img alt=\"Article has an altmetric score of 9\" src=\"https://d1uo4w7k31k5mn.cloudfront.net/v2/9.png\" width=\"88px\" height=\"18px\" style=\"border:0; margin:0; max-width: none;\">\n",
        "</a>"
      ],
      "execution_count": 7,
      "outputs": [
        {
          "output_type": "display_data",
          "data": {
            "text/html": [
              "<a target=\"_blank\" href=\"https://www.altmetric.com/details.php?domain=app.dimensions.ai&amp;citation_id=5614638&amp;template=dimensions\" rel=\"popover\" data-content=\"<div>    <div style='padding-left: 10px; line-height:18px; border-left: 16px solid #ffd140;'>\n",
              "      <a class='link-to-altmetric-details-tab' target='_blank' href='https://www.altmetric.com/details.php?domain=app.dimensions.ai&amp;citation_id=5614638&amp;template=dimensions&amp;tab=blogs'>\n",
              "          Blogged by <b>1</b>\n",
              "      </a>\n",
              "    </div>\n",
              "    <div style='padding-left: 10px; line-height:18px; border-left: 16px solid #74CFED;'>\n",
              "      <a class='link-to-altmetric-details-tab' target='_blank' href='https://www.altmetric.com/details.php?domain=app.dimensions.ai&amp;citation_id=5614638&amp;template=dimensions&amp;tab=twitter'>\n",
              "          Tweeted by <b>4</b>\n",
              "      </a>\n",
              "    </div>\n",
              "    <div style='padding-left: 10px; line-height:18px; border-left: 16px solid #2445bd;'>\n",
              "      <a class='link-to-altmetric-details-tab' target='_blank' href='https://www.altmetric.com/details.php?domain=app.dimensions.ai&amp;citation_id=5614638&amp;template=dimensions&amp;tab=facebook'>\n",
              "          On <b>1</b> Facebook pages\n",
              "      </a>\n",
              "    </div>\n",
              "\n",
              "    <div class='altmetric-embed readers' style='margin-top: 10px;'>\n",
              "          <div class='altmetric-embed tip_mendeley'\n",
              "               style='padding-left: 10px; line-height:18px; border-left: 16px solid #A60000;'>\n",
              "              <b>16</b> readers on Mendeley\n",
              "          </div>\n",
              "    </div>\n",
              "    <div style='margin-top: 10px; text-align: center;'>\n",
              "        <a class='altmetric_details' target='_blank' href='https://www.altmetric.com/details.php?domain=app.dimensions.ai&amp;citation_id=5614638&amp;template=dimensions'>\n",
              "            See more details\n",
              "        </a>\n",
              "    </div>\n",
              "</div>\" style=\"display:inline-block;\" data-badge-popover=\"right\">\n",
              "        <img alt=\"Article has an altmetric score of 9\" src=\"https://d1uo4w7k31k5mn.cloudfront.net/v2/9.png\" width=\"88px\" height=\"18px\" style=\"border:0; margin:0; max-width: none;\">\n",
              "</a>"
            ],
            "text/plain": [
              "<IPython.core.display.HTML object>"
            ]
          },
          "metadata": {
            "tags": []
          }
        }
      ]
    },
    {
      "cell_type": "code",
      "metadata": {
        "id": "biF6huCSnYlo",
        "colab_type": "code",
        "colab": {}
      },
      "source": [
        "altmetric_url='https://www.altmetric.com/details.php?domain=app.dimensions.ai&amp;citation_id=5614638&amp;template=dimensions'"
      ],
      "execution_count": 0,
      "outputs": []
    },
    {
      "cell_type": "code",
      "metadata": {
        "id": "Mhc6vrAMsQa9",
        "colab_type": "code",
        "colab": {}
      },
      "source": [
        "!pip3 install requests_html 2> /dev/null > /dev/null"
      ],
      "execution_count": 0,
      "outputs": []
    },
    {
      "cell_type": "code",
      "metadata": {
        "id": "vqSFnqqusP7w",
        "colab_type": "code",
        "colab": {}
      },
      "source": [
        "from requests_html import HTMLSession"
      ],
      "execution_count": 0,
      "outputs": []
    },
    {
      "cell_type": "code",
      "metadata": {
        "id": "nn9_t6PU4zZk",
        "colab_type": "code",
        "colab": {}
      },
      "source": [
        "session = HTMLSession()"
      ],
      "execution_count": 0,
      "outputs": []
    },
    {
      "cell_type": "code",
      "metadata": {
        "id": "q-EJF1QWvkmW",
        "colab_type": "code",
        "colab": {}
      },
      "source": [
        "r=session.get(url)"
      ],
      "execution_count": 0,
      "outputs": []
    },
    {
      "cell_type": "code",
      "metadata": {
        "id": "sd8IL8-_2xwN",
        "colab_type": "code",
        "colab": {
          "base_uri": "https://localhost:8080/",
          "height": 55
        },
        "outputId": "f62325fa-a941-4331-f592-f9847401eacf"
      },
      "source": [
        ""
      ],
      "execution_count": 18,
      "outputs": [
        {
          "output_type": "execute_result",
          "data": {
            "text/plain": [
              "'\\n\\n\\n<!DOCTYPE html>\\n<html lang=\"en\">\\n<head>\\n    <meta charset=\"UTF-8\">\\n    <meta http-equiv=\"X-UA-Compatible\" content=\"IE=EDGE\" />\\n    <meta name=\"viewport\" content=\"width=device-width, initial-scale=1\">\\n    \\n\\n    \\n    <title> 10.1088/1475-75... in Publications - Dimensions </title>\\n\\n    \\n    <link rel=\"apple-touch-icon\" sizes=\"180x180\" href=\"https://app.dimensions.ai/static/img/favicon/apple-touch-icon.png?_cbt=98aea93\">\\n    <link rel=\"icon\" type=\"image/png\" href=\"https://app.dimensions.ai/static/img/favicon/favicon-32x32.png?_cbt=98aea93\" sizes=\"32x32\">\\n    <link rel=\"icon\" type=\"image/png\" href=\"https://app.dimensions.ai/static/img/favicon/favicon-16x16.png?_cbt=98aea93\" sizes=\"16x16\">\\n    <link rel=\"manifest\" href=\"https://app.dimensions.ai/static/img/favicon/manifest.json?_cbt=98aea93\">\\n    <link rel=\"mask-icon\" href=\"https://app.dimensions.ai/static/img/favicon/safari-pinned-tab.svg?_cbt=98aea93\" color=\"#5bbad5\">\\n    <link rel=\"shortcut icon\" href=\"https://app.dimensions.ai/static/img/favicon/favicon.ico?_cbt=98aea93\">\\n    <meta name=\"msapplication-config\" content=\"https://app.dimensions.ai/static/img/favicon/browserconfig.xml?_cbt=98aea93\">\\n    <meta name=\"theme-color\" content=\"#ffffff\">\\n\\n    \\n    \\n    <meta property=\"og:url\" content=\"https://app.dimensions.ai/discover/publication?order=altmetric&amp;search_text=10.1088/1475-7516/2016/03/048&amp;search_field=doi\" />\\n\\n    \\n    \\n    \\n    \\n    <meta property=\"og:description\" content=\"Re-imagining discovery and access to research: grants, datasets, publications, citations, clinical trials, patents and policy documents in one place. With more than 100 million publications and 1 billion citations freely available for personal use, Dimensions provides students and researchers access to the data and information they need - with the lowest barriers possible.\" />\\n    <meta property=\"twitter:description\" content=\"Re-imagining discovery and access to research: grants, datasets, publications, citations, clinical trials, patents and policy documents in one place. With more than 100 million publications...\" />\\n\\n\\n    \\n    \\n        <link href=\"https://app.dimensions.ai/static/radar.css?_cbt=98aea93\" rel=\"stylesheet\">\\n        <link href=\"https://fonts.googleapis.com/css?family=Roboto:400,300,500,700&subset=latin\" rel=\"stylesheet\">\\n    \\n    \\n     <script type=\"text/javascript\">\\n        var theme = {\"logo\": {\"header\": \"https://static-content.dimensions.ai/static/radar/default/logo-20190221.svg\", \"dialog\": \"https://static-content.dimensions.ai/static/radar/default/logo-centered.png\"}, \"email\": {\"logo_footer\": \"https://static-content.dimensions.ai/static/radar/default/email/dimensions-footer-logo.png\"}};\\n     </script>\\n    \\n    <script type=\"text/javascript\">\\n        config = {\\n            page_title: \"\",\\n            maintenance: false,\\n            ui: {\\n                minCharsForAutocomplete: {\"default\": 3, \"jurisdiction\": 1, \"publishing_segment\": 1, \"publishing_discipline\": 1, \"sales_format\": 1, \"publishing_unit\": 1}\\n            },\\n            user: {\\n                currency: \"USD\",\\n                email: \"anonymous\",\\n                export_format: \"\",\\n                export_limit: {\"full_data\": 500, \"vosviewer\": 2500}\\n            },\\n            \\n            settings: {\\n                citations: true,\\n                altmetric: true,\\n                altmetric_advanced: false,\\n                altmetric_explorer: false,\\n                allow_external_auth: true,\\n                powered_by: false,\\n                filters_exclude: false,\\n                facet_filter_groups: false,\\n                promote_features: true,\\n                save_favorites: false,\\n                show_favorites: false,\\n            },\\n            \\n            \\n                navigation: {\"analytics\": {\"root\": \"/analytics/publication\", \"path\": \"/analytics/publication\"}, \"discover\": {\"path\": \"/discover/publication\", \"results_json\": \"/discover/publication/results.json\"}, \"box_entity\": {}, \"export\": {\"exportcenter\": \"/exports\", \"export_format\": \"/account/settings/export-format\"}, \"go_back\": true, \"root\": \"/\", \"not_supported\": \"/not_supported\", \"terms\": \"https://dimensions.ai/policies/terms/legal/\", \"privacy\": \"https://dimensions.ai/policies/privacy/\", \"cookies\": \"https://www.dimensions.ai/policies/cookie/\", \"about\": \"https://www.dimensions.ai/\", \"vpat\": \"https://www.dimensions.ai/policies/vpat/\", \"link_logo\": \"/\", \"login_redirect\": \"/login/readcube\"},\\n            \\n            csrf: \\'4598023d8e21fc034f96c3bb447522da8a3a64bd\\'\\n        };\\n\\n        config.route = \\'/discover/{source:[\\\\w-]+}\\';\\n        config.product = {\\n            name: {\\n                long: \"Dimensions\",\\n                short: \"Dimensions\"\\n            }\\n        };\\n        \\n            \\n            config.source = {\"key\": \"publication_plus\", \"label\": \"Publication\", \"parent\": null, \"plural\": \"Publications\", \"alias\": \"publication\"};\\n        \\n\\n        \\n\\n\\n        \\n\\n        config.freshdeskUrl = \\'https://support.dimensions.ai\\';\\n        config.supportEmail = \\'support@dimensions.ai\\';\\n        config.lastActivePath = \\'/discover/publication\\';\\n\\n        config.external_scripts = {\\n            readcube_script_url: \"https://content.readcube.com/injectable-button-assets/readcube-subscription-button.min.js\",\\n            dimensions_badge_script_url: \"https://badge.dimensions.ai/badge.js\",\\n            altmetric_badge_script_url: \"//d1bxh8uas1mnw7.cloudfront.net/assets/embed.js\"\\n        }\\n\\n        config.right_header_menu = {\\n            \\n            \\n                support: {\"title\": \"Support\", \"navigation\": {\"json\": \"/menus/support.json\"}},\\n            \\n            \\n                login: {\"label\": \"Log in\", \"icon\": false, \"navigation\": {\"path\": \"/login/readcube\"}},\\n            \\n            \\n                register: {\"label\": \"Register\", \"icon\": false, \"navigation\": {\"path\": \"/register/readcube\"}},\\n            \\n            \\n            \\n        }\\n\\n        \\n   config.intercomSettings = {\"app_id\": \"ilx5k1fm\", \"user_role\": \"anonymous users\", \"application\": \"app.dimensions.ai\", \"altmetric_advanced\": false, \"product\": \"Free\", \"workflow\": false, \"api\": false, \"user_migrated\": false, \"user_id\": \"34.82.151.171\", \"sources\": \"publication_plus,data_set\"}\\n\\n        \\n    \\n        config.sentry_settings = {\\'dsn\\': \\'https://55852aa9acda40bab118a916cc795c20@sentry.io/202199\\', \\'release\\': \\'98aea93-release_3_37_0\\'};\\n    \\n\\n        \\n            \\n    window.config.googleAnalyticsSettings = {\"id\": \"UA-103785835-4\", \"dimensions\": {\"dimension1\": \"Free\", \"dimension2\": \"\"}, \"include_query_params\": false};\\n\\n        \\n        \\n    window.config.notifications = window.config.notificationBuffer || [];\\n    \\n\\n        \\n    \\n    \\n    \\n    \\n        config.filters = {\"facet_bags\": [], \"expanded_facets\": [\"year\"], \"selected_facets\": {}, \"limit\": 10, \"navigation\": {\"json\": \"/facets/publication.json\"}}\\n\\n        \\n        config.filters.navigation = {\"json\": \"/facets/publication.json\"}\\n    \\n\\n    \\n\\n    \\n        config.subsets = []\\n    \\n\\n    \\n        config.favorites = {\"enabled\": false, \"show_tooltip\": true, \"navigation\": {\"json\": \"/favorites/publication.json\", \"browse\": \"/browse/favorites/publication\", \"create.json\": \"/favorites/create.json\", \"alert_sources.json\": \"/alert/favorites/sources.json\"}}\\n    \\n\\n    \\n\\n    \\n        \\n            config.search = {\"default\": \"kws\", \"search_types\": [{\"type\": \"kws\", \"limit\": 22000, \"fields\": {\"default\": \"full_search\", \"items\": [{\"id\": \"full_search\", \"label\": \"Full data\", \"tag_label\": \"Free text in full data\"}, {\"id\": \"text_search\", \"label\": \"Title and abstract\", \"tag_label\": \"Free text in title and abstract\"}, {\"id\": \"doi\", \"label\": \"DOI\", \"tag_label\": \"DOI\"}]}, \"placeholder\": \"e.g. plastic AND instrument\"}, {\"type\": \"abs\", \"limit\": 22000, \"fields\": null, \"placeholder\": \"Paste abstract here\"}]}\\n        \\n        \\n            config.save_menu =  {\"title\": \"Save / Export\", \"items\": [], \"show_toolip\": true}\\n        \\n    \\n\\n    \\n    config.sourceSelector = [{\"key\": \"publication_plus\", \"label\": \"Publication\", \"parent\": null, \"plural\": \"Publications\", \"alias\": \"publication\", \"state\": {\"selected\": true, \"enabled\": true, \"applicable\": true, \"available\": true, \"document_count\": 1, \"value\": \"1\", \"show_tooltip\": false, \"navigation\": {\"path\": \"/discover/publication\"}, \"active\": true}}, {\"key\": \"data_set\", \"label\": \"Dataset\", \"parent\": null, \"plural\": \"Datasets\", \"alias\": \"data_set\", \"state\": {\"selected\": false, \"enabled\": true, \"applicable\": false, \"available\": true, \"document_count\": null, \"value\": \"\", \"show_tooltip\": false, \"navigation\": {\"path\": \"/discover/data_set\"}, \"active\": false}}, {\"key\": \"project_plus\", \"label\": \"Grant\", \"parent\": null, \"plural\": \"Grants\", \"alias\": \"grant\", \"state\": {\"selected\": false, \"enabled\": false, \"applicable\": false, \"available\": true, \"document_count\": null, \"value\": \"\", \"show_tooltip\": true, \"navigation\": {\"path\": \"/discover/grant\"}, \"active\": false}}, {\"key\": \"patent_plus\", \"label\": \"Patent\", \"parent\": null, \"plural\": \"Patents\", \"alias\": \"patent\", \"state\": {\"selected\": false, \"enabled\": false, \"applicable\": false, \"available\": true, \"document_count\": null, \"value\": \"\", \"show_tooltip\": true, \"navigation\": {\"path\": \"/discover/patent\"}, \"active\": false}}, {\"key\": \"clinical_trial_plus\", \"label\": \"Clinical Trial\", \"parent\": null, \"plural\": \"Clinical Trials\", \"alias\": \"clinical_trial\", \"state\": {\"selected\": false, \"enabled\": false, \"applicable\": false, \"available\": true, \"document_count\": null, \"value\": \"\", \"show_tooltip\": true, \"navigation\": {\"path\": \"/discover/clinical_trial\"}, \"active\": false}}, {\"key\": \"policy_documents\", \"label\": \"Policy Document\", \"parent\": null, \"plural\": \"Policy Documents\", \"alias\": \"policy_documents\", \"state\": {\"selected\": false, \"enabled\": false, \"applicable\": false, \"available\": true, \"document_count\": null, \"value\": \"\", \"show_tooltip\": true, \"navigation\": {\"path\": \"/discover/policy_documents\"}, \"active\": false}}];\\n    \\n\\n    config.analytics = {\\n        \\n        sections: [{\"id\": \"system_category\", \"label\": \"Fields of Research\", \"thumb\": \"system_category\", \"navigation\": {\"preview.json\": \"/panel/publication/for/preview.json\"}, \"items\": [{\"id\": \"system_category-for\", \"label\": \"Fields of Research\", \"items\": [{\"id\": \"for-aggregated\", \"label\": \"Aggregated\", \"page_title\": \"Aggregated - Fields of Research for 10.1088/1475-75... in Publications - Dimensions\", \"type\": \"aggregated\", \"navigation\": {\"path\": \"/analytics/publication/for/aggregated\", \"contents_json\": \"/analytics/publication/for/aggregated.json\"}}, {\"id\": \"for-barchart\", \"label\": \"Bar Chart\", \"page_title\": \"Bar Chart - Fields of Research for 10.1088/1475-75... in Publications - Dimensions\", \"type\": \"barchart\", \"navigation\": {\"path\": \"/analytics/publication/for/barchart\", \"contents_json\": \"/analytics/publication/for/barchart.json\"}}]}]}, {\"id\": \"overview\", \"label\": \"Overview\", \"thumb\": \"overview\", \"navigation\": {\"preview.json\": \"/panel/publication/overview/preview.json\"}, \"items\": [{\"id\": \"overview-overview\", \"label\": \"Overview\", \"items\": [{\"id\": \"overview-timeline\", \"label\": \"Timeline\", \"page_title\": \"Timeline - Overview for 10.1088/1475-75... in Publications - Dimensions\", \"type\": \"timeline\", \"navigation\": {\"path\": \"/analytics/publication/overview/timeline\", \"contents_json\": \"/analytics/publication/overview/timeline.json\"}}]}]}, {\"id\": \"author\", \"label\": \"Researchers\", \"thumb\": \"author\", \"navigation\": {\"preview.json\": \"/panel/publication/author/preview.json\"}, \"items\": [{\"id\": \"author-author\", \"label\": \"Researcher\", \"items\": [{\"id\": \"author-aggregated\", \"label\": \"Aggregated\", \"page_title\": \"Aggregated - Researchers for 10.1088/1475-75... in Publications - Dimensions\", \"type\": \"aggregated\", \"navigation\": {\"path\": \"/analytics/publication/author/aggregated\", \"contents_json\": \"/analytics/publication/author/aggregated.json\"}}]}]}, {\"id\": \"source_title\", \"label\": \"Source Titles\", \"thumb\": \"source_title\", \"navigation\": {\"preview.json\": \"/panel/publication/source_title/preview.json\"}, \"items\": [{\"id\": \"source_title-source_title\", \"label\": \"Source Title\", \"items\": [{\"id\": \"source_title-aggregated\", \"label\": \"Aggregated\", \"page_title\": \"Aggregated - Source Titles for 10.1088/1475-75... in Publications - Dimensions\", \"type\": \"aggregated\", \"navigation\": {\"path\": \"/analytics/publication/source_title/aggregated\", \"contents_json\": \"/analytics/publication/source_title/aggregated.json\"}}]}]}]\\n        \\n    };\\n    config.discover_page_title = \"10.1088/1475-75... in Publications - Dimensions\";\\n\\n    </script>\\n    \\n    \\n    \\n</head>\\n<body class=\" no-mathjax\">\\n    \\n    \\n    <div data-js=\"discover-page\" ></div>\\n\\n    \\n    \\n    \\n        <div id=\"notificationContainer\"></div>\\n    \\n    \\n    \\n    <script src=\"https://app.dimensions.ai/static/common-chunk.js?_cbt=98aea93\"></script>\\n    <script src=\"https://app.dimensions.ai/static/polyfills-bundle.js?_cbt=98aea93\"></script>\\n    <script src=\"https://app.dimensions.ai/static/general-bundle.js?_cbt=98aea93\"></script>\\n    \\n    <script src=\"https://app.dimensions.ai/static/discover_analytics-bundle.js?_cbt=98aea93\"></script>\\n\\n\\n    \\n        \\n<div class=\"cookie-law hidden\" id=\"cookie-law-container\" data-bt=\"cookie_law_popup\">\\n    <div class=\"inner\">\\n        This website uses cookies to help you receive a better online experience.\\n        By using this website, you are agreeing to the use of cookies as explained in our\\n        <a href=\"https://dimensions.ai/policies/privacy/\" target=\"_blank\">privacy policy</a>.\\n\\n        <button type=\"button\" class=\"button--primary button\" data-bt=\"cookie_law_button\" id=\"cookie-law-button\">GOT IT</button>\\n    </div>\\n</div>\\n<script>\\n    var hasLocalStorage = (function(){try {\\n        var storage = window[\\'localStorage\\'],\\n            x = \\'__storage_test__\\';\\n        storage.setItem(x, x);\\n        storage.removeItem(x);\\n        return true;\\n    } catch (e) {\\n        return false;\\n    }})();\\n    var cookieContainer = document.getElementById(\\'cookie-law-container\\');\\n    var cookieButton = document.getElementById(\\'cookie-law-button\\');\\n    // if localStorage is not available the message will be present\\n    if (!hasLocalStorage) {\\n        cookieButton.parentNode.removeChild(cookieButton);\\n    } else {\\n        var consent = window.localStorage.getItem(\\'cookie-consent\\') === \\'true\\';\\n\\n        if (!consent) {\\n            cookieContainer.className = cookieContainer.className.replace(/\\\\bhidden\\\\b/g, \"\");\\n            cookieButton.addEventListener(\\'click\\', function() {\\n                window.localStorage.setItem(\\'cookie-consent\\', true);\\n                cookieContainer.parentNode.removeChild(cookieContainer);\\n            })\\n        }\\n\\n    }\\n</script>\\n\\n\\n    \\n\\n    \\n    \\n    \\n        <script type=\"text/javascript\">\\n            /**\\n            * Check if browser is supported\\n            */\\n            (function(){\\n                var d = document.documentElement.style;\\n                if (\\n                    !(\\'flexWrap\\' in d || \\'WebkitFlexWrap\\' in d || \\'msFlexWrap\\' in d) &&\\n                    !(window.location.pathname === window.config.navigation.not_supported)\\n                ) {\\n                    // Flexbox is not supported as minimum requirement to the browser\\n                    window.location.href = window.config.navigation.not_supported;\\n                }\\n\\n                // Save useragent in custom attribute for later (CSS) usage\\n                // (cf. https://css-tricks.com/ie-10-specific-styles/)\\n                document.documentElement.setAttribute(\\'data-useragent\\', navigator.userAgent);\\n            })()\\n        </script>\\n    \\n    \\n    <noscript>\\n        <div class=\"user-dialog dialog-overlay\">\\n            <div class=\"dialog-wrapper\">\\n                <div class=\"dialog\">\\n                    <div class=\"dialog__title\" style=\"\\n                        background-color: #0D4667;\\n                        border-bottom: 0 solid transparent\">\\n                        <img title=\"Dimensions logo\" alt=\"Dimensions logo\" class=\"dialog__logo\" src=\"https://static-content.dimensions.ai/static/radar/default/logo-centered.png\"/>\\n                    </div>\\n                    <div class=\"dialog__content\">\\n                        \\n    <b>JavaScript is not enabled in your browser.</b>\\n    <br/><br/>\\n    To use Dimensions, please enable JavaScript in the options of your browser or talk to your local administrator.\\n\\n                    </div>\\n                </div>\\n            </div>\\n        </div>\\n    </noscript>\\n\\n</body>\\n</html>'"
            ]
          },
          "metadata": {
            "tags": []
          },
          "execution_count": 18
        }
      ]
    },
    {
      "cell_type": "code",
      "metadata": {
        "id": "b8_4dV2D2qJH",
        "colab_type": "code",
        "colab": {
          "base_uri": "https://localhost:8080/",
          "height": 451
        },
        "outputId": "6d432c31-fd1e-46dd-b58d-c8ebd6bfd900"
      },
      "source": [
        "rr=r.html.render()"
      ],
      "execution_count": 22,
      "outputs": [
        {
          "output_type": "stream",
          "text": [
            "[W:pyppeteer.chromium_downloader] start chromium download.\n",
            "Download may take a few minutes.\n",
            "100%|██████████| 106826418/106826418 [00:01<00:00, 93598244.68it/s]\n",
            "[W:pyppeteer.chromium_downloader] \n",
            "chromium download done.\n",
            "[W:pyppeteer.chromium_downloader] chromium extracted to: /root/.local/share/pyppeteer/local-chromium/575458\n"
          ],
          "name": "stderr"
        },
        {
          "output_type": "error",
          "ename": "BrowserError",
          "evalue": "ignored",
          "traceback": [
            "\u001b[0;31m---------------------------------------------------------------------------\u001b[0m",
            "\u001b[0;31mBrowserError\u001b[0m                              Traceback (most recent call last)",
            "\u001b[0;32m<ipython-input-22-65e60fd516f3>\u001b[0m in \u001b[0;36m<module>\u001b[0;34m()\u001b[0m\n\u001b[0;32m----> 1\u001b[0;31m \u001b[0mrr\u001b[0m\u001b[0;34m=\u001b[0m\u001b[0mr\u001b[0m\u001b[0;34m.\u001b[0m\u001b[0mhtml\u001b[0m\u001b[0;34m.\u001b[0m\u001b[0mrender\u001b[0m\u001b[0;34m(\u001b[0m\u001b[0;34m)\u001b[0m\u001b[0;34m\u001b[0m\u001b[0;34m\u001b[0m\u001b[0m\n\u001b[0m",
            "\u001b[0;32m/usr/local/lib/python3.6/dist-packages/requests_html.py\u001b[0m in \u001b[0;36mrender\u001b[0;34m(self, retries, script, wait, scrolldown, sleep, reload, timeout, keep_page)\u001b[0m\n\u001b[1;32m    584\u001b[0m         \"\"\"\n\u001b[1;32m    585\u001b[0m \u001b[0;34m\u001b[0m\u001b[0m\n\u001b[0;32m--> 586\u001b[0;31m         \u001b[0mself\u001b[0m\u001b[0;34m.\u001b[0m\u001b[0mbrowser\u001b[0m \u001b[0;34m=\u001b[0m \u001b[0mself\u001b[0m\u001b[0;34m.\u001b[0m\u001b[0msession\u001b[0m\u001b[0;34m.\u001b[0m\u001b[0mbrowser\u001b[0m  \u001b[0;31m# Automatically create a event loop and browser\u001b[0m\u001b[0;34m\u001b[0m\u001b[0;34m\u001b[0m\u001b[0m\n\u001b[0m\u001b[1;32m    587\u001b[0m         \u001b[0mcontent\u001b[0m \u001b[0;34m=\u001b[0m \u001b[0;32mNone\u001b[0m\u001b[0;34m\u001b[0m\u001b[0;34m\u001b[0m\u001b[0m\n\u001b[1;32m    588\u001b[0m \u001b[0;34m\u001b[0m\u001b[0m\n",
            "\u001b[0;32m/usr/local/lib/python3.6/dist-packages/requests_html.py\u001b[0m in \u001b[0;36mbrowser\u001b[0;34m(self)\u001b[0m\n\u001b[1;32m    728\u001b[0m             \u001b[0;32mif\u001b[0m \u001b[0mself\u001b[0m\u001b[0;34m.\u001b[0m\u001b[0mloop\u001b[0m\u001b[0;34m.\u001b[0m\u001b[0mis_running\u001b[0m\u001b[0;34m(\u001b[0m\u001b[0;34m)\u001b[0m\u001b[0;34m:\u001b[0m\u001b[0;34m\u001b[0m\u001b[0;34m\u001b[0m\u001b[0m\n\u001b[1;32m    729\u001b[0m                 \u001b[0;32mraise\u001b[0m \u001b[0mRuntimeError\u001b[0m\u001b[0;34m(\u001b[0m\u001b[0;34m\"Cannot use HTMLSession within an existing event loop. Use AsyncHTMLSession instead.\"\u001b[0m\u001b[0;34m)\u001b[0m\u001b[0;34m\u001b[0m\u001b[0;34m\u001b[0m\u001b[0m\n\u001b[0;32m--> 730\u001b[0;31m             \u001b[0mself\u001b[0m\u001b[0;34m.\u001b[0m\u001b[0m_browser\u001b[0m \u001b[0;34m=\u001b[0m \u001b[0mself\u001b[0m\u001b[0;34m.\u001b[0m\u001b[0mloop\u001b[0m\u001b[0;34m.\u001b[0m\u001b[0mrun_until_complete\u001b[0m\u001b[0;34m(\u001b[0m\u001b[0msuper\u001b[0m\u001b[0;34m(\u001b[0m\u001b[0;34m)\u001b[0m\u001b[0;34m.\u001b[0m\u001b[0mbrowser\u001b[0m\u001b[0;34m)\u001b[0m\u001b[0;34m\u001b[0m\u001b[0;34m\u001b[0m\u001b[0m\n\u001b[0m\u001b[1;32m    731\u001b[0m         \u001b[0;32mreturn\u001b[0m \u001b[0mself\u001b[0m\u001b[0;34m.\u001b[0m\u001b[0m_browser\u001b[0m\u001b[0;34m\u001b[0m\u001b[0;34m\u001b[0m\u001b[0m\n\u001b[1;32m    732\u001b[0m \u001b[0;34m\u001b[0m\u001b[0m\n",
            "\u001b[0;32m/usr/lib/python3.6/asyncio/base_events.py\u001b[0m in \u001b[0;36mrun_until_complete\u001b[0;34m(self, future)\u001b[0m\n\u001b[1;32m    482\u001b[0m             \u001b[0;32mraise\u001b[0m \u001b[0mRuntimeError\u001b[0m\u001b[0;34m(\u001b[0m\u001b[0;34m'Event loop stopped before Future completed.'\u001b[0m\u001b[0;34m)\u001b[0m\u001b[0;34m\u001b[0m\u001b[0;34m\u001b[0m\u001b[0m\n\u001b[1;32m    483\u001b[0m \u001b[0;34m\u001b[0m\u001b[0m\n\u001b[0;32m--> 484\u001b[0;31m         \u001b[0;32mreturn\u001b[0m \u001b[0mfuture\u001b[0m\u001b[0;34m.\u001b[0m\u001b[0mresult\u001b[0m\u001b[0;34m(\u001b[0m\u001b[0;34m)\u001b[0m\u001b[0;34m\u001b[0m\u001b[0;34m\u001b[0m\u001b[0m\n\u001b[0m\u001b[1;32m    485\u001b[0m \u001b[0;34m\u001b[0m\u001b[0m\n\u001b[1;32m    486\u001b[0m     \u001b[0;32mdef\u001b[0m \u001b[0mstop\u001b[0m\u001b[0;34m(\u001b[0m\u001b[0mself\u001b[0m\u001b[0;34m)\u001b[0m\u001b[0;34m:\u001b[0m\u001b[0;34m\u001b[0m\u001b[0;34m\u001b[0m\u001b[0m\n",
            "\u001b[0;32m/usr/local/lib/python3.6/dist-packages/requests_html.py\u001b[0m in \u001b[0;36mbrowser\u001b[0;34m(self)\u001b[0m\n\u001b[1;32m    712\u001b[0m     \u001b[0;34masync\u001b[0m \u001b[0;32mdef\u001b[0m \u001b[0mbrowser\u001b[0m\u001b[0;34m(\u001b[0m\u001b[0mself\u001b[0m\u001b[0;34m)\u001b[0m\u001b[0;34m:\u001b[0m\u001b[0;34m\u001b[0m\u001b[0;34m\u001b[0m\u001b[0m\n\u001b[1;32m    713\u001b[0m         \u001b[0;32mif\u001b[0m \u001b[0;32mnot\u001b[0m \u001b[0mhasattr\u001b[0m\u001b[0;34m(\u001b[0m\u001b[0mself\u001b[0m\u001b[0;34m,\u001b[0m \u001b[0;34m\"_browser\"\u001b[0m\u001b[0;34m)\u001b[0m\u001b[0;34m:\u001b[0m\u001b[0;34m\u001b[0m\u001b[0;34m\u001b[0m\u001b[0m\n\u001b[0;32m--> 714\u001b[0;31m             \u001b[0mself\u001b[0m\u001b[0;34m.\u001b[0m\u001b[0m_browser\u001b[0m \u001b[0;34m=\u001b[0m \u001b[0mawait\u001b[0m \u001b[0mpyppeteer\u001b[0m\u001b[0;34m.\u001b[0m\u001b[0mlaunch\u001b[0m\u001b[0;34m(\u001b[0m\u001b[0mignoreHTTPSErrors\u001b[0m\u001b[0;34m=\u001b[0m\u001b[0;32mnot\u001b[0m\u001b[0;34m(\u001b[0m\u001b[0mself\u001b[0m\u001b[0;34m.\u001b[0m\u001b[0mverify\u001b[0m\u001b[0;34m)\u001b[0m\u001b[0;34m,\u001b[0m \u001b[0mheadless\u001b[0m\u001b[0;34m=\u001b[0m\u001b[0;32mTrue\u001b[0m\u001b[0;34m,\u001b[0m \u001b[0margs\u001b[0m\u001b[0;34m=\u001b[0m\u001b[0mself\u001b[0m\u001b[0;34m.\u001b[0m\u001b[0m__browser_args\u001b[0m\u001b[0;34m)\u001b[0m\u001b[0;34m\u001b[0m\u001b[0;34m\u001b[0m\u001b[0m\n\u001b[0m\u001b[1;32m    715\u001b[0m \u001b[0;34m\u001b[0m\u001b[0m\n\u001b[1;32m    716\u001b[0m         \u001b[0;32mreturn\u001b[0m \u001b[0mself\u001b[0m\u001b[0;34m.\u001b[0m\u001b[0m_browser\u001b[0m\u001b[0;34m\u001b[0m\u001b[0;34m\u001b[0m\u001b[0m\n",
            "\u001b[0;32m/usr/local/lib/python3.6/dist-packages/pyppeteer/launcher.py\u001b[0m in \u001b[0;36mlaunch\u001b[0;34m(options, **kwargs)\u001b[0m\n\u001b[1;32m    309\u001b[0m         \u001b[0moption\u001b[0m \u001b[0;32mwith\u001b[0m \u001b[0mextreme\u001b[0m \u001b[0mcaution\u001b[0m\u001b[0;34m.\u001b[0m\u001b[0;34m\u001b[0m\u001b[0;34m\u001b[0m\u001b[0m\n\u001b[1;32m    310\u001b[0m     \"\"\"\n\u001b[0;32m--> 311\u001b[0;31m     \u001b[0;32mreturn\u001b[0m \u001b[0mawait\u001b[0m \u001b[0mLauncher\u001b[0m\u001b[0;34m(\u001b[0m\u001b[0moptions\u001b[0m\u001b[0;34m,\u001b[0m \u001b[0;34m**\u001b[0m\u001b[0mkwargs\u001b[0m\u001b[0;34m)\u001b[0m\u001b[0;34m.\u001b[0m\u001b[0mlaunch\u001b[0m\u001b[0;34m(\u001b[0m\u001b[0;34m)\u001b[0m\u001b[0;34m\u001b[0m\u001b[0;34m\u001b[0m\u001b[0m\n\u001b[0m\u001b[1;32m    312\u001b[0m \u001b[0;34m\u001b[0m\u001b[0m\n\u001b[1;32m    313\u001b[0m \u001b[0;34m\u001b[0m\u001b[0m\n",
            "\u001b[0;32m/usr/local/lib/python3.6/dist-packages/pyppeteer/launcher.py\u001b[0m in \u001b[0;36mlaunch\u001b[0;34m(self)\u001b[0m\n\u001b[1;32m    187\u001b[0m \u001b[0;34m\u001b[0m\u001b[0m\n\u001b[1;32m    188\u001b[0m         \u001b[0mconnectionDelay\u001b[0m \u001b[0;34m=\u001b[0m \u001b[0mself\u001b[0m\u001b[0;34m.\u001b[0m\u001b[0moptions\u001b[0m\u001b[0;34m.\u001b[0m\u001b[0mget\u001b[0m\u001b[0;34m(\u001b[0m\u001b[0;34m'slowMo'\u001b[0m\u001b[0;34m,\u001b[0m \u001b[0;36m0\u001b[0m\u001b[0;34m)\u001b[0m\u001b[0;34m\u001b[0m\u001b[0;34m\u001b[0m\u001b[0m\n\u001b[0;32m--> 189\u001b[0;31m         \u001b[0mself\u001b[0m\u001b[0;34m.\u001b[0m\u001b[0mbrowserWSEndpoint\u001b[0m \u001b[0;34m=\u001b[0m \u001b[0mself\u001b[0m\u001b[0;34m.\u001b[0m\u001b[0m_get_ws_endpoint\u001b[0m\u001b[0;34m(\u001b[0m\u001b[0;34m)\u001b[0m\u001b[0;34m\u001b[0m\u001b[0;34m\u001b[0m\u001b[0m\n\u001b[0m\u001b[1;32m    190\u001b[0m         \u001b[0mlogger\u001b[0m\u001b[0;34m.\u001b[0m\u001b[0minfo\u001b[0m\u001b[0;34m(\u001b[0m\u001b[0;34mf'Browser listening on: {self.browserWSEndpoint}'\u001b[0m\u001b[0;34m)\u001b[0m\u001b[0;34m\u001b[0m\u001b[0;34m\u001b[0m\u001b[0m\n\u001b[1;32m    191\u001b[0m         self.connection = Connection(\n",
            "\u001b[0;32m/usr/local/lib/python3.6/dist-packages/pyppeteer/launcher.py\u001b[0m in \u001b[0;36m_get_ws_endpoint\u001b[0;34m(self)\u001b[0m\n\u001b[1;32m    231\u001b[0m             raise BrowserError(\n\u001b[1;32m    232\u001b[0m                 'Browser closed unexpectedly:\\n{}'.format(\n\u001b[0;32m--> 233\u001b[0;31m                     \u001b[0mself\u001b[0m\u001b[0;34m.\u001b[0m\u001b[0mproc\u001b[0m\u001b[0;34m.\u001b[0m\u001b[0mstdout\u001b[0m\u001b[0;34m.\u001b[0m\u001b[0mread\u001b[0m\u001b[0;34m(\u001b[0m\u001b[0;34m)\u001b[0m\u001b[0;34m.\u001b[0m\u001b[0mdecode\u001b[0m\u001b[0;34m(\u001b[0m\u001b[0;34m)\u001b[0m\u001b[0;34m\u001b[0m\u001b[0;34m\u001b[0m\u001b[0m\n\u001b[0m\u001b[1;32m    234\u001b[0m                 )\n\u001b[1;32m    235\u001b[0m             )\n",
            "\u001b[0;31mBrowserError\u001b[0m: Browser closed unexpectedly:\nsrc/tcmalloc.cc:283] Attempt to free invalid pointer 0x318e9533c9f0 \n"
          ]
        }
      ]
    },
    {
      "cell_type": "code",
      "metadata": {
        "id": "Bdit4VEN2uyG",
        "colab_type": "code",
        "colab": {}
      },
      "source": [
        ""
      ],
      "execution_count": 0,
      "outputs": []
    }
  ]
}