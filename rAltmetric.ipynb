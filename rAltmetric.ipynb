{
 "cells": [
  {
   "cell_type": "markdown",
   "metadata": {},
   "source": [
    "# rAltmetric\n",
    "https://github.com/ropensci/rAltmetric"
   ]
  },
  {
   "cell_type": "code",
   "execution_count": 10,
   "metadata": {},
   "outputs": [],
   "source": [
    "# sudo -i R\n",
    "# install.packages('rAltmetric')\n",
    "# install.packages('readr')"
   ]
  },
  {
   "cell_type": "code",
   "execution_count": 3,
   "metadata": {},
   "outputs": [],
   "source": [
    "library(rAltmetric)"
   ]
  },
  {
   "cell_type": "code",
   "execution_count": 4,
   "metadata": {},
   "outputs": [],
   "source": [
    "acuna <- altmetrics(doi = \"10.1038/465860a\")"
   ]
  },
  {
   "cell_type": "code",
   "execution_count": 5,
   "metadata": {},
   "outputs": [
    {
     "data": {
      "text/plain": [
       "Altmetrics on: \"Metrics: Do metrics matter?\" with altmetric_id: 385053 published in Nature.\n",
       "                        stats\n",
       "cited_by_fbwalls_count      3\n",
       "cited_by_feeds_count        4\n",
       "cited_by_gplus_count        2\n",
       "cited_by_msm_count          1\n",
       "cited_by_policies_count     2\n",
       "cited_by_posts_count       36\n",
       "cited_by_tweeters_count    22\n",
       "cited_by_accounts_count    34"
      ]
     },
     "metadata": {},
     "output_type": "display_data"
    }
   ],
   "source": [
    "acuna"
   ]
  },
  {
   "cell_type": "code",
   "execution_count": 6,
   "metadata": {},
   "outputs": [],
   "source": [
    "acuna <- altmetrics(doi = \"10.1088/1475-7516/2016/03/048\")"
   ]
  },
  {
   "cell_type": "code",
   "execution_count": 7,
   "metadata": {},
   "outputs": [
    {
     "data": {
      "text/plain": [
       "Altmetrics on: \"The Fermi-LAT gamma-ray excess at the Galactic Center in the singlet-doublet fermion dark matter model\" with altmetric_id: 5614638 published in Journal of Cosmology and Astroparticle Physics.\n",
       "                        stats\n",
       "cited_by_posts_count        6\n",
       "cited_by_feeds_count        1\n",
       "cited_by_tweeters_count     4\n",
       "cited_by_fbwalls_count      1\n",
       "cited_by_accounts_count     6"
      ]
     },
     "metadata": {},
     "output_type": "display_data"
    }
   ],
   "source": [
    "acuna"
   ]
  },
  {
   "cell_type": "code",
   "execution_count": 8,
   "metadata": {},
   "outputs": [
    {
     "data": {
      "text/html": [
       "<table>\n",
       "<thead><tr><th scope=col>title</th><th scope=col>doi</th><th scope=col>arxiv_id</th><th scope=col>ads_id</th><th scope=col>altmetric_jid</th><th scope=col>issns</th><th scope=col>journal</th><th scope=col>cohorts.pub</th><th scope=col>cohorts.sci</th><th scope=col>context.all.count</th><th scope=col>⋯</th><th scope=col>scopus_subjects1</th><th scope=col>scopus_subjects2</th><th scope=col>readers.citeulike</th><th scope=col>readers.mendeley</th><th scope=col>readers.connotea</th><th scope=col>readers_count</th><th scope=col>images.small</th><th scope=col>images.medium</th><th scope=col>images.large</th><th scope=col>details_url</th></tr></thead>\n",
       "<tbody>\n",
       "\t<tr><td>The Fermi-LAT gamma-ray excess at the Galactic Center in the singlet-doublet fermion dark matter model</td><td>10.1088/1475-7516/2016/03/048                                                                         </td><td>1602.04788                                                                                            </td><td>2016JCAP...03..048H                                                                                   </td><td>4f6fa6223cf058f610007c22                                                                              </td><td>1475-7516                                                                                             </td><td>Journal of Cosmology and Astroparticle Physics                                                        </td><td>1                                                                                                     </td><td>3                                                                                                     </td><td>12801553                                                                                              </td><td><U+22EF>                                                                                              </td><td>Physical Sciences                                                                                     </td><td>Physics and Astronomy                                                                                 </td><td>0                                                                                                     </td><td>16                                                                                                    </td><td>0                                                                                                     </td><td>16                                                                                                    </td><td>https://badges.altmetric.com/?size=64&amp;score=9&amp;types=bttttttf                                  </td><td>https://badges.altmetric.com/?size=100&amp;score=9&amp;types=bttttttf                                 </td><td>https://badges.altmetric.com/?size=180&amp;score=9&amp;types=bttttttf                                 </td><td>http://www.altmetric.com/details.php?citation_id=5614638                                              </td></tr>\n",
       "</tbody>\n",
       "</table>\n"
      ],
      "text/latex": [
       "\\begin{tabular}{r|lllllllllllllllllllllllllllllllllllllllllllllllllllllllllllllllllllllllllll}\n",
       " title & doi & arxiv\\_id & ads\\_id & altmetric\\_jid & issns & journal & cohorts.pub & cohorts.sci & context.all.count & ⋯ & scopus\\_subjects1 & scopus\\_subjects2 & readers.citeulike & readers.mendeley & readers.connotea & readers\\_count & images.small & images.medium & images.large & details\\_url\\\\\n",
       "\\hline\n",
       "\t The Fermi-LAT gamma-ray excess at the Galactic Center in the singlet-doublet fermion dark matter model & 10.1088/1475-7516/2016/03/048                                                                          & 1602.04788                                                                                             & 2016JCAP...03..048H                                                                                    & 4f6fa6223cf058f610007c22                                                                               & 1475-7516                                                                                              & Journal of Cosmology and Astroparticle Physics                                                         & 1                                                                                                      & 3                                                                                                      & 12801553                                                                                               & <U+22EF>                                                                                               & Physical Sciences                                                                                      & Physics and Astronomy                                                                                  & 0                                                                                                      & 16                                                                                                     & 0                                                                                                      & 16                                                                                                     & https://badges.altmetric.com/?size=64\\&score=9\\&types=bttttttf                                       & https://badges.altmetric.com/?size=100\\&score=9\\&types=bttttttf                                      & https://badges.altmetric.com/?size=180\\&score=9\\&types=bttttttf                                      & http://www.altmetric.com/details.php?citation\\_id=5614638                                            \\\\\n",
       "\\end{tabular}\n"
      ],
      "text/markdown": [
       "\n",
       "title | doi | arxiv_id | ads_id | altmetric_jid | issns | journal | cohorts.pub | cohorts.sci | context.all.count | ⋯ | scopus_subjects1 | scopus_subjects2 | readers.citeulike | readers.mendeley | readers.connotea | readers_count | images.small | images.medium | images.large | details_url | \n",
       "|---|\n",
       "| The Fermi-LAT gamma-ray excess at the Galactic Center in the singlet-doublet fermion dark matter model | 10.1088/1475-7516/2016/03/048                                                                          | 1602.04788                                                                                             | 2016JCAP...03..048H                                                                                    | 4f6fa6223cf058f610007c22                                                                               | 1475-7516                                                                                              | Journal of Cosmology and Astroparticle Physics                                                         | 1                                                                                                      | 3                                                                                                      | 12801553                                                                                               | <U+22EF>                                                                                               | Physical Sciences                                                                                      | Physics and Astronomy                                                                                  | 0                                                                                                      | 16                                                                                                     | 0                                                                                                      | 16                                                                                                     | https://badges.altmetric.com/?size=64&score=9&types=bttttttf                                           | https://badges.altmetric.com/?size=100&score=9&types=bttttttf                                          | https://badges.altmetric.com/?size=180&score=9&types=bttttttf                                          | http://www.altmetric.com/details.php?citation_id=5614638                                               | \n",
       "\n",
       "\n"
      ],
      "text/plain": [
       "  title                                                                                                 \n",
       "1 The Fermi-LAT gamma-ray excess at the Galactic Center in the singlet-doublet fermion dark matter model\n",
       "  doi                           arxiv_id   ads_id             \n",
       "1 10.1088/1475-7516/2016/03/048 1602.04788 2016JCAP...03..048H\n",
       "  altmetric_jid            issns    \n",
       "1 4f6fa6223cf058f610007c22 1475-7516\n",
       "  journal                                        cohorts.pub cohorts.sci\n",
       "1 Journal of Cosmology and Astroparticle Physics 1           3          \n",
       "  context.all.count <U+22EF>   scopus_subjects1  scopus_subjects2     \n",
       "1 12801553          <U+22EF> Physical Sciences Physics and Astronomy\n",
       "  readers.citeulike readers.mendeley readers.connotea readers_count\n",
       "1 0                 16               0                16           \n",
       "  images.small                                                \n",
       "1 https://badges.altmetric.com/?size=64&score=9&types=bttttttf\n",
       "  images.medium                                                \n",
       "1 https://badges.altmetric.com/?size=100&score=9&types=bttttttf\n",
       "  images.large                                                 \n",
       "1 https://badges.altmetric.com/?size=180&score=9&types=bttttttf\n",
       "  details_url                                             \n",
       "1 http://www.altmetric.com/details.php?citation_id=5614638"
      ]
     },
     "metadata": {},
     "output_type": "display_data"
    }
   ],
   "source": [
    "altmetric_data(acuna)"
   ]
  },
  {
   "cell_type": "code",
   "execution_count": 11,
   "metadata": {},
   "outputs": [],
   "source": [
    "acuna_data <- altmetric_data(acuna)\n",
    "readr::write_csv(acuna_data, path = 'acuna_altmetrics.csv')"
   ]
  },
  {
   "cell_type": "code",
   "execution_count": null,
   "metadata": {},
   "outputs": [],
   "source": []
  }
 ],
 "metadata": {
  "kernelspec": {
   "display_name": "R",
   "language": "R",
   "name": "ir"
  },
  "language_info": {
   "codemirror_mode": "r",
   "file_extension": ".r",
   "mimetype": "text/x-r-source",
   "name": "R",
   "pygments_lexer": "r",
   "version": "3.3.3"
  }
 },
 "nbformat": 4,
 "nbformat_minor": 2
}
